{
 "cells": [
  {
   "cell_type": "code",
   "execution_count": null,
   "metadata": {},
   "outputs": [],
   "source": [
    "import nltk\n",
    "from sklearn.feature_extraction.text import TfidfVectorizer\n",
    "from sklearn.svm import LinearSVC\n",
    "from flask import Flask, request, jsonify"
   ]
  },
  {
   "cell_type": "code",
   "execution_count": null,
   "metadata": {},
   "outputs": [],
   "source": [
    "# Preprocessing Data\n",
    "def preprocess_text(text):\n",
    "    from nltk.tokenize import word_tokenize\n",
    "    from nltk.corpus import stopwords\n",
    "    nltk.download('punkt')\n",
    "    nltk.download('stopwords')\n",
    "    stop_words = set(stopwords.words('english'))\n",
    "    tokens = word_tokenize(text.lower())\n",
    "    return ' '.join([word for word in tokens if word not in stop_words])\n",
    "\n"
   ]
  },
  {
   "cell_type": "code",
   "execution_count": null,
   "metadata": {},
   "outputs": [],
   "source": [
    "# Example Dataset\n",
    "data = {\n",
    "    \"greetings\": [\"hello\", \"hi\", \"hey\", \"good morning\", \"good evening\"],\n",
    "    \"farewell\": [\"bye\", \"goodbye\", \"see you later\", \"take care\"],\n",
    "    \"query\": [\"what is your name?\", \"who are you?\", \"what can you do?\"]\n",
    "}\n",
    "\n",
    "labels = [\"greetings\", \"farewell\", \"query\"]\n",
    "\n"
   ]
  },
  {
   "cell_type": "code",
   "execution_count": null,
   "metadata": {},
   "outputs": [],
   "source": [
    "# Training the Intent Classifier\n",
    "vectorizer = TfidfVectorizer(preprocessor=preprocess_text)\n",
    "X = vectorizer.fit_transform(data[\"greetings\"] + data[\"farewell\"] + data[\"query\"])\n",
    "y = [\"greetings\"] * len(data[\"greetings\"]) + [\"farewell\"] * len(data[\"farewell\"]) + [\"query\"] * len(data[\"query\"])\n",
    "\n",
    "classifier = LinearSVC()\n",
    "classifier.fit(X, y)\n",
    "\n"
   ]
  },
  {
   "cell_type": "code",
   "execution_count": null,
   "metadata": {},
   "outputs": [],
   "source": [
    "# Chatbot Functionality\n",
    "def chatbot_response(query):\n",
    "    query_vectorized = vectorizer.transform([query])\n",
    "    intent = classifier.predict(query_vectorized)[0]\n",
    "    responses = {\n",
    "        \"greetings\": \"Hello! How can I assist you today?\",\n",
    "        \"farewell\": \"Goodbye! Have a great day!\",\n",
    "        \"query\": \"I'm here to help with your questions. What do you need?\"\n",
    "    }\n",
    "    return responses.get(intent, \"I'm sorry, I didn't understand that.\")\n"
   ]
  },
  {
   "cell_type": "code",
   "execution_count": null,
   "metadata": {},
   "outputs": [],
   "source": [
    "# Flask API\n",
    "app = Flask(__name__)\n",
    "\n",
    "@app.route('/chat', methods=['POST'])\n",
    "def chat():\n",
    "    user_input = request.json.get('message')\n",
    "    response = chatbot_response(user_input)\n",
    "    return jsonify({\"response\": response})\n",
    "\n",
    "if __name__ == '__main__':\n",
    "    app.run(debug=True)\n"
   ]
  }
 ],
 "metadata": {
  "language_info": {
   "name": "python"
  }
 },
 "nbformat": 4,
 "nbformat_minor": 2
}
